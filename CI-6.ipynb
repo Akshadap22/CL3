{
 "cells": [
  {
   "cell_type": "code",
   "execution_count": 1,
   "id": "f0bb18ca",
   "metadata": {},
   "outputs": [],
   "source": [
    "import random\n",
    "import numpy as np\n",
    "\n",
    "# Define the objective function\n",
    "def objective_function(x):\n",
    "    # Example: Sphere function\n",
    "    return sum([i**2 for i in x])\n",
    "\n",
    "# Initialize population\n",
    "def initialize_population(pop_size, dimensions, lower_bound, upper_bound):\n",
    "    population = []\n",
    "    for _ in range(pop_size):\n",
    "        individual = np.random.uniform(lower_bound, upper_bound, dimensions)\n",
    "        population.append(individual)\n",
    "    return population\n",
    "\n",
    "# Clone an individual\n",
    "def clone_individual(individual, clone_factor):\n",
    "    clones = []\n",
    "    for _ in range(clone_factor):\n",
    "        clone = np.array(individual)\n",
    "        for i in range(len(clone)):\n",
    "            mutation_rate = random.uniform(0, 1)\n",
    "            if mutation_rate < 0.5:\n",
    "                clone[i] += random.uniform(-1, 1)\n",
    "        clones.append(clone)\n",
    "    return clones\n",
    "\n",
    "# Select the best individuals\n",
    "def select_best(population, num_selected, num_clones, clone_factor):\n",
    "    population.sort(key=lambda x: objective_function(x))\n",
    "    selected = []\n",
    "    for i in range(min(len(population), num_selected)):\n",
    "        clones = clone_individual(population[i], clone_factor)\n",
    "        selected.extend(clones)\n",
    "    return selected[:num_clones]\n",
    "\n",
    "# Main function for clonal selection algorithm\n",
    "def clonal_selection_algorithm(pop_size, dimensions, lower_bound, upper_bound,\n",
    "                               num_generations, num_selected, num_clones, clone_factor):\n",
    "    population = initialize_population(pop_size, dimensions, lower_bound, upper_bound)\n",
    "    for _ in range(num_generations):\n",
    "        selected = select_best(population, num_selected, num_clones, clone_factor)\n",
    "        population = selected\n",
    "    best_solution = min(population, key=lambda x: objective_function(x))\n",
    "    return best_solution, objective_function(best_solution)\n"
   ]
  },
  {
   "cell_type": "code",
   "execution_count": 5,
   "id": "b426e10c",
   "metadata": {},
   "outputs": [
    {
     "name": "stdout",
     "output_type": "stream",
     "text": [
      "Enter population size: 10\n",
      "Enter number of dimensions: 2\n",
      "Enter lower bound: 5\n",
      "Enter upper bound: 5\n",
      "Enter number of generations: 10\n",
      "Enter number of individuals selected: 4\n",
      "Enter number of clones: 2\n",
      "Enter clone factor: 3\n",
      "Best solution: [3.46894487 2.2953723 ]\n",
      "Best fitness: 17.302312534644333\n"
     ]
    }
   ],
   "source": [
    "# Get user input for parameters\n",
    "# size of the population\n",
    "pop_size = int(input(\"Enter population size: \"))\n",
    "\n",
    "#number of dimensions in the search space\n",
    "dimensions = int(input(\"Enter number of dimensions: \"))\n",
    "\n",
    "#search space to prevent solutions from going beyond this lower limit\n",
    "lower_bound = float(input(\"Enter lower bound: \"))\n",
    "\n",
    "#maximum value that a solution can take\n",
    "upper_bound = float(input(\"Enter upper bound: \"))\n",
    "\n",
    "#number of generations (or iterations) that the algorithm will run for\n",
    "num_generations = int(input(\"Enter number of generations: \"))\n",
    "\n",
    "#number of top individuals (antibodies) selected from the population based on their fitness values\n",
    "num_selected = int(input(\"Enter number of individuals selected: \"))\n",
    "\n",
    "#number of clones to be created\n",
    "num_clones = int(input(\"Enter number of clones: \"))\n",
    "\n",
    "#parameter controls the degree of mutation during cloning\n",
    "clone_factor = int(input(\"Enter clone factor: \"))\n",
    "\n",
    "# Run the clonal selection algorithm\n",
    "best_solution, best_fitness = clonal_selection_algorithm(pop_size, dimensions, lower_bound, upper_bound, num_generations, num_selected, num_clones, clone_factor)\n",
    "\n",
    "# Print the results\n",
    "print(\"Best solution:\", best_solution)\n",
    "print(\"Best fitness:\", best_fitness)\n"
   ]
  },
  {
   "cell_type": "code",
   "execution_count": null,
   "id": "cb9d7d7b",
   "metadata": {},
   "outputs": [],
   "source": []
  },
  {
   "cell_type": "code",
   "execution_count": null,
   "id": "bc56d6eb",
   "metadata": {},
   "outputs": [],
   "source": []
  },
  {
   "cell_type": "code",
   "execution_count": null,
   "id": "eba4adba",
   "metadata": {},
   "outputs": [],
   "source": []
  }
 ],
 "metadata": {
  "kernelspec": {
   "display_name": "Python 3 (ipykernel)",
   "language": "python",
   "name": "python3"
  },
  "language_info": {
   "codemirror_mode": {
    "name": "ipython",
    "version": 3
   },
   "file_extension": ".py",
   "mimetype": "text/x-python",
   "name": "python",
   "nbconvert_exporter": "python",
   "pygments_lexer": "ipython3",
   "version": "3.9.13"
  }
 },
 "nbformat": 4,
 "nbformat_minor": 5
}
